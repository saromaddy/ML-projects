{
 "cells": [
  {
   "cell_type": "code",
   "execution_count": 5,
   "id": "9993e3d3",
   "metadata": {},
   "outputs": [],
   "source": [
    "import base64\n",
    "from PIL import Image\n",
    "from io import BytesIO\n",
    "\n",
    "# Read the base64 string from a file (optional)\n",
    "with open('base64_output.txt', 'r') as f:\n",
    "    base64_string = f.read()\n",
    "\n",
    "# Decode base64 string to bytes\n",
    "image_data = base64.b64decode(base64_string)\n",
    "\n",
    "# Convert bytes to image\n",
    "image = Image.open(BytesIO(image_data))\n",
    "\n",
    "# Show the image\n",
    "image.show()\n"
   ]
  },
  {
   "cell_type": "code",
   "execution_count": null,
   "id": "dd6a60a6",
   "metadata": {},
   "outputs": [],
   "source": []
  }
 ],
 "metadata": {
  "kernelspec": {
   "display_name": ".venv",
   "language": "python",
   "name": "python3"
  },
  "language_info": {
   "codemirror_mode": {
    "name": "ipython",
    "version": 3
   },
   "file_extension": ".py",
   "mimetype": "text/x-python",
   "name": "python",
   "nbconvert_exporter": "python",
   "pygments_lexer": "ipython3",
   "version": "3.12.6"
  }
 },
 "nbformat": 4,
 "nbformat_minor": 5
}
